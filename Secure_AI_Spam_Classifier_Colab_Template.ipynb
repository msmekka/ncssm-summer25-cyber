{
  "cells": [
    {
      "cell_type": "markdown",
      "metadata": {
        "id": "view-in-github",
        "colab_type": "text"
      },
      "source": [
        "<a href=\"https://colab.research.google.com/github/msmekka/ncssm-summer25-cyber/blob/main/Secure_AI_Spam_Classifier_Colab_Template.ipynb\" target=\"_parent\"><img src=\"https://colab.research.google.com/assets/colab-badge.svg\" alt=\"Open In Colab\"/></a>"
      ]
    },
    {
      "cell_type": "markdown",
      "id": "81d43bf3",
      "metadata": {
        "id": "81d43bf3"
      },
      "source": [
        "# 🧠 Secure Your Data, Power Your AI\n",
        "Welcome to your project notebook! You will build a spam classifier using anonymized data. Work through each section and complete the code where prompted."
      ]
    },
    {
      "cell_type": "markdown",
      "source": [
        "# Python Practice"
      ],
      "metadata": {
        "id": "xoeN8cFtw0US"
      },
      "id": "xoeN8cFtw0US"
    },
    {
      "cell_type": "markdown",
      "source": [
        "Overview of basic Python concepts"
      ],
      "metadata": {
        "id": "N4KoO5kLw-Nk"
      },
      "id": "N4KoO5kLw-Nk"
    },
    {
      "cell_type": "code",
      "source": [
        "name = \"Ada\"\n",
        "age = 14\n",
        "height = 5.3"
      ],
      "metadata": {
        "id": "RJbK9y7_xHDL"
      },
      "id": "RJbK9y7_xHDL",
      "execution_count": null,
      "outputs": []
    },
    {
      "cell_type": "markdown",
      "id": "4a547e9c",
      "metadata": {
        "id": "4a547e9c"
      },
      "source": [
        "## 🔍 Step 1: Load Your Dataset\n",
        "We're using the SMS Spam Collection dataset from Kaggle. Upload and load it below."
      ]
    },
    {
      "cell_type": "code",
      "execution_count": null,
      "id": "9294880d",
      "metadata": {
        "colab": {
          "base_uri": "https://localhost:8080/",
          "height": 311
        },
        "id": "9294880d",
        "outputId": "b74a80d7-3c42-4ac0-a9f1-72a8fc308670"
      },
      "outputs": [
        {
          "output_type": "stream",
          "name": "stdout",
          "text": [
            "(5495, 5)\n"
          ]
        },
        {
          "output_type": "execute_result",
          "data": {
            "text/plain": [
              "        v1                                                 v2 Unnamed: 2  \\\n",
              "5490  spam  This is the 2nd time we have tried 2 contact u...        NaN   \n",
              "5491   ham              Will Ì_ b going to esplanade fr home?        NaN   \n",
              "5492   ham  Pity, * was in mood for that. So...any other s...        NaN   \n",
              "5493   ham  The guy did some *****ing but I acted like i'd...        NaN   \n",
              "5494   ham                         Rofl. Its true to its name        NaN   \n",
              "\n",
              "     Unnamed: 3 Unnamed: 4  \n",
              "5490        NaN        NaN  \n",
              "5491        NaN        NaN  \n",
              "5492        NaN        NaN  \n",
              "5493        NaN        NaN  \n",
              "5494        NaN        NaN  "
            ],
            "text/html": [
              "\n",
              "  <div id=\"df-86589c70-a7a6-4954-9c29-c83994500e9f\" class=\"colab-df-container\">\n",
              "    <div>\n",
              "<style scoped>\n",
              "    .dataframe tbody tr th:only-of-type {\n",
              "        vertical-align: middle;\n",
              "    }\n",
              "\n",
              "    .dataframe tbody tr th {\n",
              "        vertical-align: top;\n",
              "    }\n",
              "\n",
              "    .dataframe thead th {\n",
              "        text-align: right;\n",
              "    }\n",
              "</style>\n",
              "<table border=\"1\" class=\"dataframe\">\n",
              "  <thead>\n",
              "    <tr style=\"text-align: right;\">\n",
              "      <th></th>\n",
              "      <th>v1</th>\n",
              "      <th>v2</th>\n",
              "      <th>Unnamed: 2</th>\n",
              "      <th>Unnamed: 3</th>\n",
              "      <th>Unnamed: 4</th>\n",
              "    </tr>\n",
              "  </thead>\n",
              "  <tbody>\n",
              "    <tr>\n",
              "      <th>5490</th>\n",
              "      <td>spam</td>\n",
              "      <td>This is the 2nd time we have tried 2 contact u...</td>\n",
              "      <td>NaN</td>\n",
              "      <td>NaN</td>\n",
              "      <td>NaN</td>\n",
              "    </tr>\n",
              "    <tr>\n",
              "      <th>5491</th>\n",
              "      <td>ham</td>\n",
              "      <td>Will Ì_ b going to esplanade fr home?</td>\n",
              "      <td>NaN</td>\n",
              "      <td>NaN</td>\n",
              "      <td>NaN</td>\n",
              "    </tr>\n",
              "    <tr>\n",
              "      <th>5492</th>\n",
              "      <td>ham</td>\n",
              "      <td>Pity, * was in mood for that. So...any other s...</td>\n",
              "      <td>NaN</td>\n",
              "      <td>NaN</td>\n",
              "      <td>NaN</td>\n",
              "    </tr>\n",
              "    <tr>\n",
              "      <th>5493</th>\n",
              "      <td>ham</td>\n",
              "      <td>The guy did some *****ing but I acted like i'd...</td>\n",
              "      <td>NaN</td>\n",
              "      <td>NaN</td>\n",
              "      <td>NaN</td>\n",
              "    </tr>\n",
              "    <tr>\n",
              "      <th>5494</th>\n",
              "      <td>ham</td>\n",
              "      <td>Rofl. Its true to its name</td>\n",
              "      <td>NaN</td>\n",
              "      <td>NaN</td>\n",
              "      <td>NaN</td>\n",
              "    </tr>\n",
              "  </tbody>\n",
              "</table>\n",
              "</div>\n",
              "    <div class=\"colab-df-buttons\">\n",
              "\n",
              "  <div class=\"colab-df-container\">\n",
              "    <button class=\"colab-df-convert\" onclick=\"convertToInteractive('df-86589c70-a7a6-4954-9c29-c83994500e9f')\"\n",
              "            title=\"Convert this dataframe to an interactive table.\"\n",
              "            style=\"display:none;\">\n",
              "\n",
              "  <svg xmlns=\"http://www.w3.org/2000/svg\" height=\"24px\" viewBox=\"0 -960 960 960\">\n",
              "    <path d=\"M120-120v-720h720v720H120Zm60-500h600v-160H180v160Zm220 220h160v-160H400v160Zm0 220h160v-160H400v160ZM180-400h160v-160H180v160Zm440 0h160v-160H620v160ZM180-180h160v-160H180v160Zm440 0h160v-160H620v160Z\"/>\n",
              "  </svg>\n",
              "    </button>\n",
              "\n",
              "  <style>\n",
              "    .colab-df-container {\n",
              "      display:flex;\n",
              "      gap: 12px;\n",
              "    }\n",
              "\n",
              "    .colab-df-convert {\n",
              "      background-color: #E8F0FE;\n",
              "      border: none;\n",
              "      border-radius: 50%;\n",
              "      cursor: pointer;\n",
              "      display: none;\n",
              "      fill: #1967D2;\n",
              "      height: 32px;\n",
              "      padding: 0 0 0 0;\n",
              "      width: 32px;\n",
              "    }\n",
              "\n",
              "    .colab-df-convert:hover {\n",
              "      background-color: #E2EBFA;\n",
              "      box-shadow: 0px 1px 2px rgba(60, 64, 67, 0.3), 0px 1px 3px 1px rgba(60, 64, 67, 0.15);\n",
              "      fill: #174EA6;\n",
              "    }\n",
              "\n",
              "    .colab-df-buttons div {\n",
              "      margin-bottom: 4px;\n",
              "    }\n",
              "\n",
              "    [theme=dark] .colab-df-convert {\n",
              "      background-color: #3B4455;\n",
              "      fill: #D2E3FC;\n",
              "    }\n",
              "\n",
              "    [theme=dark] .colab-df-convert:hover {\n",
              "      background-color: #434B5C;\n",
              "      box-shadow: 0px 1px 3px 1px rgba(0, 0, 0, 0.15);\n",
              "      filter: drop-shadow(0px 1px 2px rgba(0, 0, 0, 0.3));\n",
              "      fill: #FFFFFF;\n",
              "    }\n",
              "  </style>\n",
              "\n",
              "    <script>\n",
              "      const buttonEl =\n",
              "        document.querySelector('#df-86589c70-a7a6-4954-9c29-c83994500e9f button.colab-df-convert');\n",
              "      buttonEl.style.display =\n",
              "        google.colab.kernel.accessAllowed ? 'block' : 'none';\n",
              "\n",
              "      async function convertToInteractive(key) {\n",
              "        const element = document.querySelector('#df-86589c70-a7a6-4954-9c29-c83994500e9f');\n",
              "        const dataTable =\n",
              "          await google.colab.kernel.invokeFunction('convertToInteractive',\n",
              "                                                    [key], {});\n",
              "        if (!dataTable) return;\n",
              "\n",
              "        const docLinkHtml = 'Like what you see? Visit the ' +\n",
              "          '<a target=\"_blank\" href=https://colab.research.google.com/notebooks/data_table.ipynb>data table notebook</a>'\n",
              "          + ' to learn more about interactive tables.';\n",
              "        element.innerHTML = '';\n",
              "        dataTable['output_type'] = 'display_data';\n",
              "        await google.colab.output.renderOutput(dataTable, element);\n",
              "        const docLink = document.createElement('div');\n",
              "        docLink.innerHTML = docLinkHtml;\n",
              "        element.appendChild(docLink);\n",
              "      }\n",
              "    </script>\n",
              "  </div>\n",
              "\n",
              "\n",
              "    <div id=\"df-14e495d5-b0df-41bb-a34f-d9d24c3a0df0\">\n",
              "      <button class=\"colab-df-quickchart\" onclick=\"quickchart('df-14e495d5-b0df-41bb-a34f-d9d24c3a0df0')\"\n",
              "                title=\"Suggest charts\"\n",
              "                style=\"display:none;\">\n",
              "\n",
              "<svg xmlns=\"http://www.w3.org/2000/svg\" height=\"24px\"viewBox=\"0 0 24 24\"\n",
              "     width=\"24px\">\n",
              "    <g>\n",
              "        <path d=\"M19 3H5c-1.1 0-2 .9-2 2v14c0 1.1.9 2 2 2h14c1.1 0 2-.9 2-2V5c0-1.1-.9-2-2-2zM9 17H7v-7h2v7zm4 0h-2V7h2v10zm4 0h-2v-4h2v4z\"/>\n",
              "    </g>\n",
              "</svg>\n",
              "      </button>\n",
              "\n",
              "<style>\n",
              "  .colab-df-quickchart {\n",
              "      --bg-color: #E8F0FE;\n",
              "      --fill-color: #1967D2;\n",
              "      --hover-bg-color: #E2EBFA;\n",
              "      --hover-fill-color: #174EA6;\n",
              "      --disabled-fill-color: #AAA;\n",
              "      --disabled-bg-color: #DDD;\n",
              "  }\n",
              "\n",
              "  [theme=dark] .colab-df-quickchart {\n",
              "      --bg-color: #3B4455;\n",
              "      --fill-color: #D2E3FC;\n",
              "      --hover-bg-color: #434B5C;\n",
              "      --hover-fill-color: #FFFFFF;\n",
              "      --disabled-bg-color: #3B4455;\n",
              "      --disabled-fill-color: #666;\n",
              "  }\n",
              "\n",
              "  .colab-df-quickchart {\n",
              "    background-color: var(--bg-color);\n",
              "    border: none;\n",
              "    border-radius: 50%;\n",
              "    cursor: pointer;\n",
              "    display: none;\n",
              "    fill: var(--fill-color);\n",
              "    height: 32px;\n",
              "    padding: 0;\n",
              "    width: 32px;\n",
              "  }\n",
              "\n",
              "  .colab-df-quickchart:hover {\n",
              "    background-color: var(--hover-bg-color);\n",
              "    box-shadow: 0 1px 2px rgba(60, 64, 67, 0.3), 0 1px 3px 1px rgba(60, 64, 67, 0.15);\n",
              "    fill: var(--button-hover-fill-color);\n",
              "  }\n",
              "\n",
              "  .colab-df-quickchart-complete:disabled,\n",
              "  .colab-df-quickchart-complete:disabled:hover {\n",
              "    background-color: var(--disabled-bg-color);\n",
              "    fill: var(--disabled-fill-color);\n",
              "    box-shadow: none;\n",
              "  }\n",
              "\n",
              "  .colab-df-spinner {\n",
              "    border: 2px solid var(--fill-color);\n",
              "    border-color: transparent;\n",
              "    border-bottom-color: var(--fill-color);\n",
              "    animation:\n",
              "      spin 1s steps(1) infinite;\n",
              "  }\n",
              "\n",
              "  @keyframes spin {\n",
              "    0% {\n",
              "      border-color: transparent;\n",
              "      border-bottom-color: var(--fill-color);\n",
              "      border-left-color: var(--fill-color);\n",
              "    }\n",
              "    20% {\n",
              "      border-color: transparent;\n",
              "      border-left-color: var(--fill-color);\n",
              "      border-top-color: var(--fill-color);\n",
              "    }\n",
              "    30% {\n",
              "      border-color: transparent;\n",
              "      border-left-color: var(--fill-color);\n",
              "      border-top-color: var(--fill-color);\n",
              "      border-right-color: var(--fill-color);\n",
              "    }\n",
              "    40% {\n",
              "      border-color: transparent;\n",
              "      border-right-color: var(--fill-color);\n",
              "      border-top-color: var(--fill-color);\n",
              "    }\n",
              "    60% {\n",
              "      border-color: transparent;\n",
              "      border-right-color: var(--fill-color);\n",
              "    }\n",
              "    80% {\n",
              "      border-color: transparent;\n",
              "      border-right-color: var(--fill-color);\n",
              "      border-bottom-color: var(--fill-color);\n",
              "    }\n",
              "    90% {\n",
              "      border-color: transparent;\n",
              "      border-bottom-color: var(--fill-color);\n",
              "    }\n",
              "  }\n",
              "</style>\n",
              "\n",
              "      <script>\n",
              "        async function quickchart(key) {\n",
              "          const quickchartButtonEl =\n",
              "            document.querySelector('#' + key + ' button');\n",
              "          quickchartButtonEl.disabled = true;  // To prevent multiple clicks.\n",
              "          quickchartButtonEl.classList.add('colab-df-spinner');\n",
              "          try {\n",
              "            const charts = await google.colab.kernel.invokeFunction(\n",
              "                'suggestCharts', [key], {});\n",
              "          } catch (error) {\n",
              "            console.error('Error during call to suggestCharts:', error);\n",
              "          }\n",
              "          quickchartButtonEl.classList.remove('colab-df-spinner');\n",
              "          quickchartButtonEl.classList.add('colab-df-quickchart-complete');\n",
              "        }\n",
              "        (() => {\n",
              "          let quickchartButtonEl =\n",
              "            document.querySelector('#df-14e495d5-b0df-41bb-a34f-d9d24c3a0df0 button');\n",
              "          quickchartButtonEl.style.display =\n",
              "            google.colab.kernel.accessAllowed ? 'block' : 'none';\n",
              "        })();\n",
              "      </script>\n",
              "    </div>\n",
              "\n",
              "    </div>\n",
              "  </div>\n"
            ],
            "application/vnd.google.colaboratory.intrinsic+json": {
              "type": "dataframe",
              "repr_error": "0"
            }
          },
          "metadata": {},
          "execution_count": 2
        }
      ],
      "source": [
        "# Import libraries\n",
        "import pandas as pd\n",
        "\n",
        "filename = 'https://raw.githubusercontent.com/msmekka/ncssm-summer25-cyber/refs/heads/main/spam_clean.csv'\n",
        "\n",
        "# Load dataset (replace with actual file path or use Kaggle API)\n",
        "# Import libraries\n",
        "import pandas as pd\n",
        "\n",
        "filename = 'https://raw.githubusercontent.com/msmekka/ncssm-summer25-cyber/refs/heads/main/spam_clean.csv'\n",
        "\n",
        "# Load dataset (replace with actual file path or use Kaggle API)\n",
        "df = pd.read_csv(filename, sep=',')\n",
        "#df = pd.read_csv('/content/sample_data/spam.csv', encoding='latin1')\n",
        "print(df.shape)\n",
        "df.tail()"
      ]
    },
    {
      "cell_type": "markdown",
      "id": "58170671",
      "metadata": {
        "id": "58170671"
      },
      "source": [
        "## 🛡️ Step 2: Explore for Sensitive Data\n",
        "Check for names, numbers, emails, or other personally identifiable information (PII)."
      ]
    },
    {
      "cell_type": "code",
      "execution_count": 14,
      "id": "34918232",
      "metadata": {
        "colab": {
          "base_uri": "https://localhost:8080/",
          "height": 241
        },
        "id": "34918232",
        "outputId": "b11b52c9-aca8-43dd-912f-472bf257c1ed"
      },
      "outputs": [
        {
          "output_type": "execute_result",
          "data": {
            "text/plain": [
              "0               []\n",
              "1               []\n",
              "2    [08452810075]\n",
              "3               []\n",
              "4               []\n",
              "Name: phone_numbers, dtype: object"
            ],
            "text/html": [
              "<div>\n",
              "<style scoped>\n",
              "    .dataframe tbody tr th:only-of-type {\n",
              "        vertical-align: middle;\n",
              "    }\n",
              "\n",
              "    .dataframe tbody tr th {\n",
              "        vertical-align: top;\n",
              "    }\n",
              "\n",
              "    .dataframe thead th {\n",
              "        text-align: right;\n",
              "    }\n",
              "</style>\n",
              "<table border=\"1\" class=\"dataframe\">\n",
              "  <thead>\n",
              "    <tr style=\"text-align: right;\">\n",
              "      <th></th>\n",
              "      <th>phone_numbers</th>\n",
              "    </tr>\n",
              "  </thead>\n",
              "  <tbody>\n",
              "    <tr>\n",
              "      <th>0</th>\n",
              "      <td>[]</td>\n",
              "    </tr>\n",
              "    <tr>\n",
              "      <th>1</th>\n",
              "      <td>[]</td>\n",
              "    </tr>\n",
              "    <tr>\n",
              "      <th>2</th>\n",
              "      <td>[08452810075]</td>\n",
              "    </tr>\n",
              "    <tr>\n",
              "      <th>3</th>\n",
              "      <td>[]</td>\n",
              "    </tr>\n",
              "    <tr>\n",
              "      <th>4</th>\n",
              "      <td>[]</td>\n",
              "    </tr>\n",
              "  </tbody>\n",
              "</table>\n",
              "</div><br><label><b>dtype:</b> object</label>"
            ]
          },
          "metadata": {},
          "execution_count": 14
        }
      ],
      "source": [
        "# Use regex to identify PII patterns\n",
        "import re\n",
        "\n",
        "def find_phone_numbers(text):\n",
        "  if isinstance(text, str):\n",
        "    return re.findall(r'\\d{11}', text)\n",
        "    #return re.findall(r'\\d{11}|\\(?\\d{3}[-.\\s]?\\d{3}[-.\\s]?d{4}\\)?', text)\n",
        "  else:\n",
        "    return []\n",
        "\n",
        "df['phone_numbers'] = df['v2'].apply(find_phone_numbers)\n",
        "df['phone_numbers'].head()\n",
        "\n",
        "#def find_names(text):\n",
        "#  if isinstance(text, str):\n",
        "    #Find occurences of the name Chris\n",
        "    #return re.findall(r'\\b[C,c][hris]+\\b', text)\n",
        "    #Find all words that start with a capital letter\n",
        "#    return re.findall(r'\\b[A-Z][a-z]+\\b', text)\n",
        "#  else:\n",
        "#    return []\n",
        "\n",
        "df['phone_numbers'] = df['v2'].apply(find_phone_numbers)\n",
        "df['phone_numbers'].head()\n",
        "#df['names'] = df['v2'].apply(find_names)\n",
        "#df['names'].tail()\n",
        "\n",
        "#How many phone numbers did I find?\n",
        "#total_phone_numbers = df['phone_numbers'].apply(lambda x: len(x)).sum()\n",
        "#print(f\"Total phone numbers found: {total_phone_numbers}\")\n",
        "\n",
        "#How many names did I find?\n",
        "#total_names = df['names'].apply(lambda x: len(x)).sum()\n",
        "#print(f\"Total names found: {total_names}\")"
      ]
    },
    {
      "cell_type": "markdown",
      "id": "811ce25e",
      "metadata": {
        "id": "811ce25e"
      },
      "source": [
        "## 🔒 Step 3: Anonymize Sensitive Data\n",
        "Use masking or redaction to protect the data."
      ]
    },
    {
      "cell_type": "code",
      "execution_count": null,
      "id": "bd0f780b",
      "metadata": {
        "colab": {
          "base_uri": "https://localhost:8080/"
        },
        "id": "bd0f780b",
        "outputId": "fa9564f4-e4da-427f-ca66-31148c22c61b"
      },
      "outputs": [
        {
          "output_type": "stream",
          "name": "stdout",
          "text": [
            "Total phone numbers found: 429\n"
          ]
        }
      ],
      "source": [
        "#Anonymize the message\n",
        "def anonymize_message(msg):\n",
        "    #msg = re.sub(r'\\b\\d{11}\\b', '[PHONE]', msg)\n",
        "    msg = re.sub(r'\\d{11}', '[PHONE]', msg)\n",
        "    # Add other anonymization logic here\n",
        "    return msg\n",
        "\n",
        "df['v2_anonymized'] = df['v2'].apply(anonymize_message)\n",
        "#df[['v2', 'message_anonymized']].head()\n",
        "# Filter for rows that had phone numbers and view the original and anonymized message\n",
        "df[df['phone_numbers'].apply(lambda x: len(x) > 0)][['v2', 'v2_anonymized']].head()"
      ]
    },
    {
      "cell_type": "markdown",
      "id": "fffa5b07",
      "metadata": {
        "id": "fffa5b07"
      },
      "source": [
        "## 🤖 Step 4: Train a Spam Classifier\n",
        "Use Scikit-learn to train a simple model on the anonymized messages."
      ]
    },
    {
      "cell_type": "code",
      "execution_count": null,
      "id": "cb205ece",
      "metadata": {
        "colab": {
          "base_uri": "https://localhost:8080/"
        },
        "id": "cb205ece",
        "outputId": "b0bdb285-eced-44ce-c033-8016aeba1b89"
      },
      "outputs": [
        {
          "output_type": "stream",
          "name": "stdout",
          "text": [
            "              precision    recall  f1-score   support\n",
            "\n",
            "         ham       0.96      1.00      0.98       965\n",
            "        spam       0.98      0.76      0.86       150\n",
            "\n",
            "    accuracy                           0.97      1115\n",
            "   macro avg       0.97      0.88      0.92      1115\n",
            "weighted avg       0.97      0.97      0.96      1115\n",
            "\n"
          ]
        }
      ],
      "source": [
        "# Preprocess and vectorize\n",
        "from sklearn.model_selection import train_test_split\n",
        "from sklearn.feature_extraction.text import TfidfVectorizer\n",
        "from sklearn.linear_model import LogisticRegression\n",
        "from sklearn.metrics import classification_report\n",
        "\n",
        "X_train, X_test, y_train, y_test = train_test_split(\n",
        "    df['message_anonymized'], df['v1'], test_size=0.2, random_state=42)\n",
        "\n",
        "vectorizer = TfidfVectorizer()\n",
        "X_train_vec = vectorizer.fit_transform(X_train)\n",
        "X_test_vec = vectorizer.transform(X_test)\n",
        "\n",
        "model = LogisticRegression()\n",
        "model.fit(X_train_vec, y_train)\n",
        "\n",
        "y_pred = model.predict(X_test_vec)\n",
        "print(classification_report(y_test, y_pred))"
      ]
    },
    {
      "cell_type": "markdown",
      "id": "5502eb52",
      "metadata": {
        "id": "5502eb52"
      },
      "source": [
        "## 🧾 Step 5: Reflect & Document\n",
        "Answer the following:\n",
        "- What types of PII did you find and remove?\n",
        "- How did you anonymize them?\n",
        "- Did anonymization affect model accuracy?\n",
        "- What would the risks be if the data were left unprotected?"
      ]
    }
  ],
  "metadata": {
    "colab": {
      "provenance": [],
      "include_colab_link": true
    },
    "language_info": {
      "name": "python"
    },
    "kernelspec": {
      "name": "python3",
      "display_name": "Python 3"
    }
  },
  "nbformat": 4,
  "nbformat_minor": 5
}